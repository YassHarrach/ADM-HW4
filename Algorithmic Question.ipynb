{
 "cells": [
  {
   "cell_type": "code",
   "execution_count": 9,
   "id": "5d1990d5",
   "metadata": {},
   "outputs": [],
   "source": [
    "import numpy as np"
   ]
  },
  {
   "cell_type": "markdown",
   "id": "d34aec31",
   "metadata": {},
   "source": []
  },
  {
   "cell_type": "code",
   "execution_count": 66,
   "id": "83a849ac",
   "metadata": {},
   "outputs": [
    {
     "name": "stdout",
     "output_type": "stream",
     "text": [
      "2 5 1\n",
      "1 2 1 2 2\n",
      "NO\n"
     ]
    }
   ],
   "source": [
    "input_list = list(input().split())\n",
    "M = list(map(int, input().split()))\n",
    "doors = set(M)\n",
    "array = np.array(M)\n",
    "\n",
    "D = {}\n",
    "for i in doors:\n",
    "    temp = np.where(array==i)[0]\n",
    "    D[i] = set(range(min(temp),max(temp)+1))\n",
    "\n",
    "count = []\n",
    "for i in range(len(array)):\n",
    "    c=0\n",
    "    for j in D.keys():\n",
    "        if i in D[j]: c+=1\n",
    "    count.append(c)\n",
    "    \n",
    "if int(input_list[2])<max(count): print(\"NO\")\n",
    "else: print(\"YES\")"
   ]
  }
 ],
 "metadata": {
  "kernelspec": {
   "display_name": "Python 3 (ipykernel)",
   "language": "python",
   "name": "python3"
  },
  "language_info": {
   "codemirror_mode": {
    "name": "ipython",
    "version": 3
   },
   "file_extension": ".py",
   "mimetype": "text/x-python",
   "name": "python",
   "nbconvert_exporter": "python",
   "pygments_lexer": "ipython3",
   "version": "3.8.8"
  }
 },
 "nbformat": 4,
 "nbformat_minor": 5
}
